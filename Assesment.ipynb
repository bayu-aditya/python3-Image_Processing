{
 "cells": [
  {
   "cell_type": "code",
   "execution_count": 6,
   "metadata": {},
   "outputs": [],
   "source": [
    "import cv2\n",
    "import numpy as np\n",
    "import matplotlib.pyplot as plt\n",
    "%matplotlib inline"
   ]
  },
  {
   "cell_type": "code",
   "execution_count": 7,
   "metadata": {},
   "outputs": [],
   "source": [
    "face = cv2.CascadeClassifier('DATA/haarcascades/haarcascade_frontalface_default.xml')\n",
    "eyes = cv2.CascadeClassifier('DATA/haarcascades/haarcascade_eye.xml')\n",
    "full_body = cv2.CascadeClassifier('DATA/haarcascades/haarcascade_fullbody.xml')\n",
    "\n",
    "cascade = [face, eyes, full_body]\n",
    "color = [(0,0,255), (0,255,0), (255,0,0)]"
   ]
  },
  {
   "cell_type": "code",
   "execution_count": 4,
   "metadata": {},
   "outputs": [],
   "source": [
    "cap = cv2.VideoCapture(0)\n",
    "\n",
    "def detect(frame, cascade_classifier, color):\n",
    "    image = frame.copy()\n",
    "    location = cascade_classifier.detectMultiScale(image)\n",
    "    for x, y, w, h in location:\n",
    "        cv2.rectangle(image, (x,y), (x+w, y+h), color, thickness = 5)\n",
    "    return image\n",
    "\n",
    "while True:\n",
    "    ret, frame = cap.read()\n",
    "    \n",
    "    for i in range len(cascade):\n",
    "        image = detect(frame, cascade[i], color[i])\n",
    "    \n",
    "    \n",
    "    \"\"\"\n",
    "    lokasi_face = cascade_face.detectMultiScale(frame)\n",
    "    lokasi_eyes = cascade_eyes.detectMultiScale(frame, scaleFactor = 1.7)\n",
    "    \n",
    "    for x, y, w, h in lokasi_face:\n",
    "        cv2.rectangle(frame, (x,y), (x+w, y+h), (0,0,255), thickness = 8)\n",
    "        \n",
    "    for x, y, w, h in lokasi_eyes:\n",
    "        cv2.rectangle(frame, (x,y), (x+w, y+h), (0,255,0), thickness = 5)\"\"\"\n",
    "    \n",
    "    cv2.imshow('Webcam', image)\n",
    "    \n",
    "    if cv2.waitKey(20) & 0xFF == ord('q'):\n",
    "        break\n",
    "        \n",
    "cap.release()\n",
    "cv2.destroyAllWindows()"
   ]
  }
 ],
 "metadata": {
  "kernelspec": {
   "display_name": "Python 3",
   "language": "python",
   "name": "python3"
  },
  "language_info": {
   "codemirror_mode": {
    "name": "ipython",
    "version": 3
   },
   "file_extension": ".py",
   "mimetype": "text/x-python",
   "name": "python",
   "nbconvert_exporter": "python",
   "pygments_lexer": "ipython3",
   "version": "3.6.5"
  }
 },
 "nbformat": 4,
 "nbformat_minor": 2
}
